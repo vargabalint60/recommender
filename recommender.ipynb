{
 "cells": [
  {
   "cell_type": "code",
   "execution_count": 1,
   "id": "dadb48b6",
   "metadata": {},
   "outputs": [],
   "source": [
    "import numpy as np\n",
    "import pandas as pd\n",
    "from sklearn.metrics.pairwise import cosine_similarity\n",
    "from sklearn.metrics.pairwise import euclidean_distances\n",
    "from ast import literal_eval"
   ]
  },
  {
   "cell_type": "markdown",
   "id": "937ed664",
   "metadata": {},
   "source": [
    "A recommender osztály létrehozásakor megkapja a userid-kat, amik alapján létrehozzá a user objektumokat is. mind a recommender, mind a user eltárolja, azokat a filmeket, amiket kedvelt, amik nem tetszettek neki, amiket látott már, és az összes filmet amit feldobott neki korábban. egyelőre ezek még nincsenek pontosan kihasználva, eléggé  egy basic megoldás még csak. lentebb én kézzel hoztam létre a listákat, de futás közben a recommender addLiked metódusát meghívva az adott user-hez hozzá lehet adni a kedvelt filmet. ugyanígy az addDisliked és az addSeen metódusokkal. a reccommend metódus visszaad egy dictionary-t a userId : recommendedMovieId párosokkal, úgy hogy mindenkinek lehetőleg mást ajánljon. a match metódus pedig leellőrzi, hogy van a közös kedvelt film, ha igen visszaadja annak az indexét, ha nem, akkor False."
   ]
  },
  {
   "cell_type": "code",
   "execution_count": 2,
   "id": "4fb74434",
   "metadata": {},
   "outputs": [],
   "source": [
    "tags = pd.read_csv('tags.csv')"
   ]
  },
  {
   "cell_type": "code",
   "execution_count": 34,
   "id": "bad0a471",
   "metadata": {},
   "outputs": [],
   "source": [
    "class Recommender:\n",
    "    def __init__(self, ids):\n",
    "        self.n_users = len(ids)\n",
    "        self.ids = ids\n",
    "        self.users = {userId:User() for userId in ids}\n",
    "        self.tags = pd.read_csv('tags.csv')\n",
    "        self.tags.vector = self.tags.vector.apply(literal_eval)\n",
    "        self.seen = []\n",
    "        self.liked = []\n",
    "        self.disliked = []\n",
    "        self.all = []\n",
    "        \n",
    "    def calcSimilarity(self):\n",
    "        liked_mean = np.array(self.tags.loc[self.liked]['vector'].tolist()).mean(axis=0)\n",
    "        similarities = cosine_similarity([liked_mean], np.array(self.tags['vector'].tolist()))[0]\n",
    "        similarities = pd.DataFrame(similarities, index = tags.index)\n",
    "        return similarities\n",
    "\n",
    "    def recommend(self):\n",
    "        similarities = self.calcSimilarity()\n",
    "        recommended = {user:self.users[user].recommend(similarities, i+1) for i,user in enumerate(self.users)}\n",
    "        return recommended\n",
    "    \n",
    "    def addLiked(self, movieId, userId):\n",
    "        self.liked += [movieId]\n",
    "        self.users[userId].liked += [movieId]\n",
    "        self.all += [movieId]\n",
    "        self.users[userId].all += [movieId]\n",
    "        \n",
    "    def addDisliked(self, movieId, userId):\n",
    "        self.disliked += [movieId]\n",
    "        self.users[userId].disliked += [movieId]\n",
    "        self.all += [movieId]\n",
    "        self.users[userId].all += [movieId]\n",
    "        \n",
    "    def addSeen(self, movieId, userId):\n",
    "        self.seen += [movieId]\n",
    "        self.users[userId].seen += [movieId]\n",
    "        self.all += [movieId]\n",
    "        self.users[userId].all += [movieId]\n",
    "        \n",
    "    def match(self):\n",
    "        if self.n_users > 1:\n",
    "            common = set(self.users[self.ids[0]].liked) & set(self.users[self.ids[1]].liked)\n",
    "            for i in range(2, self.n_users):\n",
    "                common = common & set(self.users[self.ids[i]].liked)\n",
    "            return common.pop() if common else False\n",
    "        \n",
    "        return self.users[ids[0]].liked[0] if self.users[ids[0]].liked else False"
   ]
  },
  {
   "cell_type": "code",
   "execution_count": 35,
   "id": "507b671e",
   "metadata": {},
   "outputs": [
    {
     "data": {
      "text/plain": [
       "True"
      ]
     },
     "execution_count": 35,
     "metadata": {},
     "output_type": "execute_result"
    }
   ],
   "source": [
    "bool(set([1]))"
   ]
  },
  {
   "cell_type": "code",
   "execution_count": 36,
   "id": "79cf35cc",
   "metadata": {},
   "outputs": [],
   "source": [
    "class User:\n",
    "    def __init__(self):\n",
    "        self.liked = []\n",
    "        self.disliked = []\n",
    "        self.seen = []\n",
    "        self.all = []\n",
    "    \n",
    "    def recommend(self, similarities, n = 1):\n",
    "        similarities = similarities.drop(index = self.all)\n",
    "        return similarities.nlargest(n, 0).index.values[-1]"
   ]
  },
  {
   "cell_type": "code",
   "execution_count": 47,
   "id": "7aaeb75e",
   "metadata": {},
   "outputs": [],
   "source": [
    "ids = range(3)\n",
    "rec = Recommender(ids)"
   ]
  },
  {
   "cell_type": "code",
   "execution_count": 48,
   "id": "55ea3d0e",
   "metadata": {},
   "outputs": [
    {
     "data": {
      "text/html": [
       "<div>\n",
       "<style scoped>\n",
       "    .dataframe tbody tr th:only-of-type {\n",
       "        vertical-align: middle;\n",
       "    }\n",
       "\n",
       "    .dataframe tbody tr th {\n",
       "        vertical-align: top;\n",
       "    }\n",
       "\n",
       "    .dataframe thead th {\n",
       "        text-align: right;\n",
       "    }\n",
       "</style>\n",
       "<table border=\"1\" class=\"dataframe\">\n",
       "  <thead>\n",
       "    <tr style=\"text-align: right;\">\n",
       "      <th></th>\n",
       "      <th>Unnamed: 0.1</th>\n",
       "      <th>Unnamed: 0</th>\n",
       "      <th>title</th>\n",
       "      <th>n_rating</th>\n",
       "      <th>rating_std</th>\n",
       "      <th>rating_mean</th>\n",
       "      <th>vector</th>\n",
       "      <th>years</th>\n",
       "      <th>popularity</th>\n",
       "      <th>year_normed</th>\n",
       "    </tr>\n",
       "  </thead>\n",
       "  <tbody>\n",
       "    <tr>\n",
       "      <th>614</th>\n",
       "      <td>614</td>\n",
       "      <td>614</td>\n",
       "      <td>Inglourious Basterds (2009)</td>\n",
       "      <td>23077</td>\n",
       "      <td>0.894771</td>\n",
       "      <td>4.011397</td>\n",
       "      <td>[0.29287957056381014, -1.1195572870268564, -0....</td>\n",
       "      <td>2009.0</td>\n",
       "      <td>0.776861</td>\n",
       "      <td>0.775281</td>\n",
       "    </tr>\n",
       "  </tbody>\n",
       "</table>\n",
       "</div>"
      ],
      "text/plain": [
       "     Unnamed: 0.1  Unnamed: 0                        title  n_rating  \\\n",
       "614           614         614  Inglourious Basterds (2009)     23077   \n",
       "\n",
       "     rating_std  rating_mean  \\\n",
       "614    0.894771     4.011397   \n",
       "\n",
       "                                                vector   years  popularity  \\\n",
       "614  [0.29287957056381014, -1.1195572870268564, -0....  2009.0    0.776861   \n",
       "\n",
       "     year_normed  \n",
       "614     0.775281  "
      ]
     },
     "execution_count": 48,
     "metadata": {},
     "output_type": "execute_result"
    }
   ],
   "source": [
    "tags[tags['title'].str.contains(\"Basterds\")]"
   ]
  },
  {
   "cell_type": "code",
   "execution_count": 49,
   "id": "aa926021",
   "metadata": {},
   "outputs": [],
   "source": [
    "primer = 864\n",
    "inception = 654\n",
    "fellowship = 202\n",
    "twot = 36\n",
    "rotk = 227\n",
    "donnie = 1586\n",
    "americanbeauty = 295\n",
    "darkknight = 578\n",
    "inglorious = 614\n",
    "pulpfiction = 0\n",
    "hp1 = 200\n",
    "hp2 = 210\n",
    "hp3 = 232"
   ]
  },
  {
   "cell_type": "code",
   "execution_count": 58,
   "id": "75c95d4f",
   "metadata": {},
   "outputs": [],
   "source": [
    "rec.users[0].liked = [primer, inception, donnie]\n",
    "rec.users[1].liked = [fellowship, twot, inglorious, inception]\n",
    "rec.users[2].liked = [americanbeauty, pulpfiction, inception]\n",
    "\n",
    "rec.liked = [primer, inception, donnie, fellowship, twot, inglorious, americanbeauty, pulpfiction]"
   ]
  },
  {
   "cell_type": "code",
   "execution_count": 59,
   "id": "baa04c51",
   "metadata": {},
   "outputs": [
    {
     "data": {
      "text/plain": [
       "654"
      ]
     },
     "execution_count": 59,
     "metadata": {},
     "output_type": "execute_result"
    }
   ],
   "source": [
    "rec.match()   #az inception mindbe benne van"
   ]
  },
  {
   "cell_type": "code",
   "execution_count": 53,
   "id": "a7bf7622",
   "metadata": {},
   "outputs": [],
   "source": [
    "recommendation = rec.recommend()"
   ]
  },
  {
   "cell_type": "code",
   "execution_count": 54,
   "id": "063c9455",
   "metadata": {},
   "outputs": [
    {
     "data": {
      "text/plain": [
       "{0: 29, 1: 455, 2: 2230}"
      ]
     },
     "execution_count": 54,
     "metadata": {},
     "output_type": "execute_result"
    }
   ],
   "source": [
    "recommendation"
   ]
  },
  {
   "cell_type": "code",
   "execution_count": 55,
   "id": "7551235f",
   "metadata": {},
   "outputs": [
    {
     "data": {
      "text/html": [
       "<div>\n",
       "<style scoped>\n",
       "    .dataframe tbody tr th:only-of-type {\n",
       "        vertical-align: middle;\n",
       "    }\n",
       "\n",
       "    .dataframe tbody tr th {\n",
       "        vertical-align: top;\n",
       "    }\n",
       "\n",
       "    .dataframe thead th {\n",
       "        text-align: right;\n",
       "    }\n",
       "</style>\n",
       "<table border=\"1\" class=\"dataframe\">\n",
       "  <thead>\n",
       "    <tr style=\"text-align: right;\">\n",
       "      <th></th>\n",
       "      <th>Unnamed: 0.1</th>\n",
       "      <th>Unnamed: 0</th>\n",
       "      <th>title</th>\n",
       "      <th>n_rating</th>\n",
       "      <th>rating_std</th>\n",
       "      <th>rating_mean</th>\n",
       "      <th>vector</th>\n",
       "      <th>years</th>\n",
       "      <th>popularity</th>\n",
       "      <th>year_normed</th>\n",
       "    </tr>\n",
       "  </thead>\n",
       "  <tbody>\n",
       "    <tr>\n",
       "      <th>29</th>\n",
       "      <td>29</td>\n",
       "      <td>29</td>\n",
       "      <td>Amelie (Fabuleux destin d'Amélie Poulain, Le) ...</td>\n",
       "      <td>34320</td>\n",
       "      <td>0.932862</td>\n",
       "      <td>4.101282</td>\n",
       "      <td>[-0.3069219306172145, -1.0551139282165616, -0....</td>\n",
       "      <td>2001.0</td>\n",
       "      <td>0.847056</td>\n",
       "      <td>0.595506</td>\n",
       "    </tr>\n",
       "    <tr>\n",
       "      <th>455</th>\n",
       "      <td>455</td>\n",
       "      <td>455</td>\n",
       "      <td>Troy (2004)</td>\n",
       "      <td>10544</td>\n",
       "      <td>1.008228</td>\n",
       "      <td>3.351574</td>\n",
       "      <td>[-0.17753686761329548, -1.0060077055930998, -0...</td>\n",
       "      <td>2004.0</td>\n",
       "      <td>0.638328</td>\n",
       "      <td>0.662921</td>\n",
       "    </tr>\n",
       "    <tr>\n",
       "      <th>2230</th>\n",
       "      <td>2230</td>\n",
       "      <td>2234</td>\n",
       "      <td>Dogma (1999)</td>\n",
       "      <td>17152</td>\n",
       "      <td>1.010336</td>\n",
       "      <td>3.625321</td>\n",
       "      <td>[-0.3967678992023353, -1.0884400020358314, -0....</td>\n",
       "      <td>1999.0</td>\n",
       "      <td>0.724382</td>\n",
       "      <td>0.550562</td>\n",
       "    </tr>\n",
       "  </tbody>\n",
       "</table>\n",
       "</div>"
      ],
      "text/plain": [
       "      Unnamed: 0.1  Unnamed: 0  \\\n",
       "29              29          29   \n",
       "455            455         455   \n",
       "2230          2230        2234   \n",
       "\n",
       "                                                  title  n_rating  rating_std  \\\n",
       "29    Amelie (Fabuleux destin d'Amélie Poulain, Le) ...     34320    0.932862   \n",
       "455                                         Troy (2004)     10544    1.008228   \n",
       "2230                                       Dogma (1999)     17152    1.010336   \n",
       "\n",
       "      rating_mean                                             vector   years  \\\n",
       "29       4.101282  [-0.3069219306172145, -1.0551139282165616, -0....  2001.0   \n",
       "455      3.351574  [-0.17753686761329548, -1.0060077055930998, -0...  2004.0   \n",
       "2230     3.625321  [-0.3967678992023353, -1.0884400020358314, -0....  1999.0   \n",
       "\n",
       "      popularity  year_normed  \n",
       "29      0.847056     0.595506  \n",
       "455     0.638328     0.662921  \n",
       "2230    0.724382     0.550562  "
      ]
     },
     "execution_count": 55,
     "metadata": {},
     "output_type": "execute_result"
    }
   ],
   "source": [
    "tags.loc[list(recommendation.values())]"
   ]
  }
 ],
 "metadata": {
  "kernelspec": {
   "display_name": "Python 3 (ipykernel)",
   "language": "python",
   "name": "python3"
  },
  "language_info": {
   "codemirror_mode": {
    "name": "ipython",
    "version": 3
   },
   "file_extension": ".py",
   "mimetype": "text/x-python",
   "name": "python",
   "nbconvert_exporter": "python",
   "pygments_lexer": "ipython3",
   "version": "3.10.2"
  }
 },
 "nbformat": 4,
 "nbformat_minor": 5
}
