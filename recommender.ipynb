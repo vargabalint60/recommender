{
 "cells": [
  {
   "cell_type": "code",
   "execution_count": 1,
   "id": "dadb48b6",
   "metadata": {},
   "outputs": [],
   "source": [
    "import numpy as np\n",
    "import pandas as pd\n",
    "from sklearn.metrics.pairwise import cosine_similarity\n",
    "from sklearn.metrics.pairwise import euclidean_distances\n",
    "from ast import literal_eval"
   ]
  },
  {
   "cell_type": "markdown",
   "id": "937ed664",
   "metadata": {},
   "source": [
    "A recommender osztály létrehozásakor megkapja a userid-kat, amik alapján létrehozzá a user objektumokat is. mind a recommender, mind a user eltárolja, azokat a filmeket, amiket kedvelt, amik nem tetszettek neki, amiket látott már, és az összes filmet amit feldobott neki korábban. egyelőre ezek még nincsenek pontosan kihasználva, eléggé  egy basic megoldás még csak. lentebb én kézzel hoztam létre a listákat, de futás közben a recommender addLiked metódusát meghívva az adott user-hez hozzá lehet adni a kedvelt filmet. ugyanígy az addDisliked és az addSeen metódusokkal. a reccommend metódus visszaad egy dictionary-t a userId : recommendedMovieId párosokkal, úgy hogy mindenkinek lehetőleg mást ajánljon. a match metódus pedig leellőrzi, hogy van a közös kedvelt film, ha igen visszaadja annak az indexét, ha nem, akkor False."
   ]
  },
  {
   "cell_type": "code",
   "execution_count": 2,
   "id": "4fb74434",
   "metadata": {},
   "outputs": [],
   "source": [
    "tags = pd.read_csv('tags.csv')"
   ]
  },
  {
   "cell_type": "code",
   "execution_count": 85,
   "id": "bad0a471",
   "metadata": {},
   "outputs": [],
   "source": [
    "class Recommender:\n",
    "    def __init__(self, ids):\n",
    "        self.n_users = len(ids)\n",
    "        self.ids = ids\n",
    "        self.users = {userId:User() for userId in ids}\n",
    "        self.tags = pd.read_csv('fit.csv', index_col = 0)\n",
    "\n",
    "        self.tags.vector = self.tags.vector.apply(literal_eval)\n",
    "        self.seen = []\n",
    "        self.liked = []\n",
    "        self.disliked = []\n",
    "        self.all = []\n",
    "        \n",
    "    def calcSimilarity(self):\n",
    "        likedAndSeen = pd.concat((self.tags.loc[self.liked]['vector'], self.tags.loc[self.seen]['vector']))\n",
    "        liked_mean = np.array(likedAndSeen.tolist()).mean(axis=0)\n",
    "        liked_mean = np.concatenate((liked_mean, [1]))\n",
    "        vectors = np.array(self.tags['vector'].tolist())\n",
    "        vectors = np.append(vectors, np.array([self.tags.liked.values.tolist()]).T, axis = 1)\n",
    "        similarities = cosine_similarity([liked_mean], vectors)[0]\n",
    "        similarities = pd.DataFrame(similarities, index = tags.index)\n",
    "        return similarities\n",
    "\n",
    "    def recommend(self):\n",
    "        similarities = self.calcSimilarity()\n",
    "        similarities = similarities.drop(index = self.disliked)\n",
    "        recommended = {user:self.users[user].recommend(similarities, i+1) for i,user in enumerate(self.users)}\n",
    "        return recommended\n",
    "    \n",
    "    def addLiked(self, movieId, userId):\n",
    "        self.tags.loc[movieId, 'liked'] += 1/(self.n_users-1)\n",
    "        self.liked += [movieId]\n",
    "        self.users[userId].liked += [movieId]\n",
    "        self.all += [movieId]\n",
    "        self.users[userId].all += [movieId]\n",
    "        \n",
    "    def addDisliked(self, movieId, userId):\n",
    "        self.tags.loc[movieId, 'liked'] -= 1/(self.n_users-1)\n",
    "        self.disliked += [movieId]\n",
    "        self.users[userId].disliked += [movieId]\n",
    "        self.all += [movieId]\n",
    "        self.users[userId].all += [movieId]\n",
    "        \n",
    "    def addSeen(self, movieId, userId):\n",
    "        self.tags.loc[movieId, 'liked'] += 1/(self.n_users-1)\n",
    "        self.seen += [movieId]\n",
    "        self.users[userId].seen += [movieId]\n",
    "        self.all += [movieId]\n",
    "        self.users[userId].all += [movieId]\n",
    "        \n",
    "    def match(self):\n",
    "        if self.n_users > 1:\n",
    "            common = set(self.users[self.ids[0]].liked) & set(self.users[self.ids[1]].liked)\n",
    "            for i in range(2, self.n_users):\n",
    "                common = common & set(self.users[self.ids[i]].liked)\n",
    "            return common.pop() if common else False\n",
    "        \n",
    "        return self.users[ids[0]].liked[0] if self.users[ids[0]].liked else False\n",
    "\n",
    "    \n",
    "class User:\n",
    "    def __init__(self):\n",
    "        self.liked = []\n",
    "        self.disliked = []\n",
    "        self.seen = []\n",
    "        self.all = []\n",
    "    \n",
    "    def recommend(self, similarities, n = 1):\n",
    "        similarities = similarities.drop(index = self.liked + self.seen, errors = 'ignore')\n",
    "        return similarities.nlargest(n, 0).index.values[-1]\n"
   ]
  },
  {
   "cell_type": "code",
   "execution_count": 86,
   "id": "7aaeb75e",
   "metadata": {},
   "outputs": [],
   "source": [
    "ids = range(3)\n",
    "rec = Recommender(ids)"
   ]
  },
  {
   "cell_type": "code",
   "execution_count": 87,
   "id": "55ea3d0e",
   "metadata": {},
   "outputs": [
    {
     "data": {
      "text/html": [
       "<div>\n",
       "<style scoped>\n",
       "    .dataframe tbody tr th:only-of-type {\n",
       "        vertical-align: middle;\n",
       "    }\n",
       "\n",
       "    .dataframe tbody tr th {\n",
       "        vertical-align: top;\n",
       "    }\n",
       "\n",
       "    .dataframe thead th {\n",
       "        text-align: right;\n",
       "    }\n",
       "</style>\n",
       "<table border=\"1\" class=\"dataframe\">\n",
       "  <thead>\n",
       "    <tr style=\"text-align: right;\">\n",
       "      <th></th>\n",
       "      <th>title</th>\n",
       "      <th>n_rating</th>\n",
       "      <th>rating_std</th>\n",
       "      <th>rating_mean</th>\n",
       "      <th>vector</th>\n",
       "      <th>years</th>\n",
       "      <th>popularity</th>\n",
       "      <th>year_normed</th>\n",
       "      <th>liked</th>\n",
       "    </tr>\n",
       "  </thead>\n",
       "  <tbody>\n",
       "    <tr>\n",
       "      <th>614</th>\n",
       "      <td>Inglourious Basterds (2009)</td>\n",
       "      <td>23077</td>\n",
       "      <td>0.894771</td>\n",
       "      <td>4.011397</td>\n",
       "      <td>[0.2928795705634613, -1.1195572870269141, -0.0...</td>\n",
       "      <td>2009.0</td>\n",
       "      <td>0.776861</td>\n",
       "      <td>0.775281</td>\n",
       "      <td>0.0</td>\n",
       "    </tr>\n",
       "  </tbody>\n",
       "</table>\n",
       "</div>"
      ],
      "text/plain": [
       "                           title  n_rating  rating_std  rating_mean  \\\n",
       "614  Inglourious Basterds (2009)     23077    0.894771     4.011397   \n",
       "\n",
       "                                                vector   years  popularity  \\\n",
       "614  [0.2928795705634613, -1.1195572870269141, -0.0...  2009.0    0.776861   \n",
       "\n",
       "     year_normed  liked  \n",
       "614     0.775281    0.0  "
      ]
     },
     "execution_count": 87,
     "metadata": {},
     "output_type": "execute_result"
    }
   ],
   "source": [
    "tags[tags['title'].str.contains(\"Basterds\")]"
   ]
  },
  {
   "cell_type": "code",
   "execution_count": 88,
   "id": "aa926021",
   "metadata": {},
   "outputs": [],
   "source": [
    "primer = 864\n",
    "inception = 654\n",
    "fellowship = 202\n",
    "twot = 36\n",
    "rotk = 227\n",
    "donnie = 1586\n",
    "americanbeauty = 295\n",
    "darkknight = 578\n",
    "inglorious = 614\n",
    "pulpfiction = 0\n",
    "hp1 = 200\n",
    "hp2 = 210\n",
    "hp3 = 232"
   ]
  },
  {
   "cell_type": "code",
   "execution_count": 89,
   "id": "07de22cc",
   "metadata": {},
   "outputs": [],
   "source": [
    "rec.addLiked(inception, 0)\n",
    "rec.addLiked(fellowship, 0)\n",
    "rec.addLiked(twot, 0)\n",
    "rec.addLiked(inglorious, 1)\n",
    "rec.addLiked(darkknight, 1)\n",
    "rec.addLiked(pulpfiction, 1)\n",
    "rec.addLiked(hp1, 2)\n",
    "rec.addLiked(inception, 2)\n",
    "rec.addLiked(donnie, 2)\n",
    "rec.addDisliked(fellowship, 1)\n",
    "rec.addDisliked(hp2, 2)\n",
    "rec.addDisliked(americanbeauty, 0)\n"
   ]
  },
  {
   "cell_type": "code",
   "execution_count": 90,
   "id": "75c95d4f",
   "metadata": {},
   "outputs": [
    {
     "data": {
      "text/plain": [
       "'rec.users[0].liked = [primer, inception, donnie]\\nrec.users[1].liked = [fellowship, twot, inglorious, inception]\\nrec.users[2].liked = [americanbeauty, pulpfiction, inception]\\n\\nrec.liked = [primer, inception, donnie, fellowship, twot, inglorious, americanbeauty, pulpfiction]'"
      ]
     },
     "execution_count": 90,
     "metadata": {},
     "output_type": "execute_result"
    }
   ],
   "source": [
    "'''rec.users[0].liked = [primer, inception, donnie]\n",
    "rec.users[1].liked = [fellowship, twot, inglorious, inception]\n",
    "rec.users[2].liked = [americanbeauty, pulpfiction, inception]\n",
    "\n",
    "rec.liked = [primer, inception, donnie, fellowship, twot, inglorious, americanbeauty, pulpfiction]'''"
   ]
  },
  {
   "cell_type": "code",
   "execution_count": 91,
   "id": "baa04c51",
   "metadata": {},
   "outputs": [
    {
     "data": {
      "text/plain": [
       "False"
      ]
     },
     "execution_count": 91,
     "metadata": {},
     "output_type": "execute_result"
    }
   ],
   "source": [
    "rec.match()   #az inception mindbe benne van"
   ]
  },
  {
   "cell_type": "code",
   "execution_count": 92,
   "id": "a7bf7622",
   "metadata": {},
   "outputs": [],
   "source": [
    "recommendation = rec.recommend()"
   ]
  },
  {
   "cell_type": "code",
   "execution_count": 93,
   "id": "063c9455",
   "metadata": {},
   "outputs": [
    {
     "data": {
      "text/plain": [
       "{0: 1586, 1: 1586, 2: 533}"
      ]
     },
     "execution_count": 93,
     "metadata": {},
     "output_type": "execute_result"
    }
   ],
   "source": [
    "recommendation"
   ]
  },
  {
   "cell_type": "code",
   "execution_count": 94,
   "id": "7551235f",
   "metadata": {},
   "outputs": [
    {
     "data": {
      "text/html": [
       "<div>\n",
       "<style scoped>\n",
       "    .dataframe tbody tr th:only-of-type {\n",
       "        vertical-align: middle;\n",
       "    }\n",
       "\n",
       "    .dataframe tbody tr th {\n",
       "        vertical-align: top;\n",
       "    }\n",
       "\n",
       "    .dataframe thead th {\n",
       "        text-align: right;\n",
       "    }\n",
       "</style>\n",
       "<table border=\"1\" class=\"dataframe\">\n",
       "  <thead>\n",
       "    <tr style=\"text-align: right;\">\n",
       "      <th></th>\n",
       "      <th>title</th>\n",
       "      <th>n_rating</th>\n",
       "      <th>rating_std</th>\n",
       "      <th>rating_mean</th>\n",
       "      <th>vector</th>\n",
       "      <th>years</th>\n",
       "      <th>popularity</th>\n",
       "      <th>year_normed</th>\n",
       "      <th>liked</th>\n",
       "    </tr>\n",
       "  </thead>\n",
       "  <tbody>\n",
       "    <tr>\n",
       "      <th>1586</th>\n",
       "      <td>Donnie Darko (2001)</td>\n",
       "      <td>27181</td>\n",
       "      <td>0.937298</td>\n",
       "      <td>3.954067</td>\n",
       "      <td>[-0.47491378337318074, -0.9341390874969006, -0...</td>\n",
       "      <td>2001.0</td>\n",
       "      <td>0.80581</td>\n",
       "      <td>0.595506</td>\n",
       "      <td>0.0</td>\n",
       "    </tr>\n",
       "    <tr>\n",
       "      <th>1586</th>\n",
       "      <td>Donnie Darko (2001)</td>\n",
       "      <td>27181</td>\n",
       "      <td>0.937298</td>\n",
       "      <td>3.954067</td>\n",
       "      <td>[-0.47491378337318074, -0.9341390874969006, -0...</td>\n",
       "      <td>2001.0</td>\n",
       "      <td>0.80581</td>\n",
       "      <td>0.595506</td>\n",
       "      <td>0.0</td>\n",
       "    </tr>\n",
       "    <tr>\n",
       "      <th>533</th>\n",
       "      <td>Pan's Labyrinth (Laberinto del fauno, El) (2006)</td>\n",
       "      <td>19868</td>\n",
       "      <td>0.909450</td>\n",
       "      <td>3.979917</td>\n",
       "      <td>[-0.24315173546406835, -0.8739280331792609, -0...</td>\n",
       "      <td>2006.0</td>\n",
       "      <td>0.75038</td>\n",
       "      <td>0.707865</td>\n",
       "      <td>0.0</td>\n",
       "    </tr>\n",
       "  </tbody>\n",
       "</table>\n",
       "</div>"
      ],
      "text/plain": [
       "                                                 title  n_rating  rating_std  \\\n",
       "1586                               Donnie Darko (2001)     27181    0.937298   \n",
       "1586                               Donnie Darko (2001)     27181    0.937298   \n",
       "533   Pan's Labyrinth (Laberinto del fauno, El) (2006)     19868    0.909450   \n",
       "\n",
       "      rating_mean                                             vector   years  \\\n",
       "1586     3.954067  [-0.47491378337318074, -0.9341390874969006, -0...  2001.0   \n",
       "1586     3.954067  [-0.47491378337318074, -0.9341390874969006, -0...  2001.0   \n",
       "533      3.979917  [-0.24315173546406835, -0.8739280331792609, -0...  2006.0   \n",
       "\n",
       "      popularity  year_normed  liked  \n",
       "1586     0.80581     0.595506    0.0  \n",
       "1586     0.80581     0.595506    0.0  \n",
       "533      0.75038     0.707865    0.0  "
      ]
     },
     "execution_count": 94,
     "metadata": {},
     "output_type": "execute_result"
    }
   ],
   "source": [
    "tags.loc[list(recommendation.values())]"
   ]
  },
  {
   "cell_type": "code",
   "execution_count": null,
   "id": "661f96cd",
   "metadata": {},
   "outputs": [],
   "source": []
  }
 ],
 "metadata": {
  "kernelspec": {
   "display_name": "Python 3 (ipykernel)",
   "language": "python",
   "name": "python3"
  },
  "language_info": {
   "codemirror_mode": {
    "name": "ipython",
    "version": 3
   },
   "file_extension": ".py",
   "mimetype": "text/x-python",
   "name": "python",
   "nbconvert_exporter": "python",
   "pygments_lexer": "ipython3",
   "version": "3.10.2"
  }
 },
 "nbformat": 4,
 "nbformat_minor": 5
}
