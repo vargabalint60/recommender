{
 "cells": [
  {
   "cell_type": "code",
   "execution_count": 1,
   "id": "dadb48b6",
   "metadata": {},
   "outputs": [],
   "source": [
    "import numpy as np\n",
    "import pandas as pd\n",
    "from sklearn.metrics.pairwise import cosine_similarity\n",
    "from sklearn.metrics.pairwise import euclidean_distances\n",
    "from ast import literal_eval"
   ]
  },
  {
   "cell_type": "markdown",
   "id": "9e787fb6",
   "metadata": {},
   "source": [
    "A recommender osztály létrehozásakor megkapja a userid-kat, amik alapján létrehozzá a user objektumokat is. mind a recommender, mind a user eltárolja, azokat a filmeket, amiket kedvelt, amik nem tetszettek neki, amiket látott már, és az összes filmet amit feldobott neki korábban. egyelőre ezek még nincsenek pontosan kihasználva, eléggé  egy basic megoldás még csak. lentebb én kézzel hoztam létre a listákat, de futás közben a recommender addLiked metódusát meghívva az adott user-hez hozzá lehet adni a kedvelt filmet. ugyanígy az addDisliked és az addSeen metódusokkal. a reccommend metódus visszaad egy dictionary-t a userId : recommendedMovieId párosokkal, úgy hogy mindenkinek lehetőleg mást ajánljon. a match metódus pedig leellőrzi, hogy van a közös kedvelt film, ha igen visszaadja annak az indexét, ha nem, akkor False."
   ]
  },
  {
   "cell_type": "code",
   "execution_count": 2,
   "id": "4fb74434",
   "metadata": {},
   "outputs": [],
   "source": [
<<<<<<< HEAD
    "tags = pd.read_csv('fit.csv', index_col = 0)\n",
    "tags.vector = tags.vector.apply(literal_eval)"
=======
    "tags = pd.read_csv('tags.csv')"
>>>>>>> ac4dfaee54ee52a97fec751f019a6c17298bace4
   ]
  },
  {
   "cell_type": "code",
   "execution_count": 60,
   "id": "bad0a471",
   "metadata": {},
   "outputs": [],
   "source": [
    "class Recommender:\n",
    "    def __init__(self, ids):\n",
    "        self.n_users = len(ids)\n",
    "        self.ids = ids\n",
    "        self.users = {userId:User() for userId in ids}\n",
<<<<<<< HEAD
    "        self.tags = pd.read_csv('fit.csv', index_col = 0)\n",
=======
    "        self.tags = pd.read_csv('tags.csv')\n",
>>>>>>> ac4dfaee54ee52a97fec751f019a6c17298bace4
    "        self.tags.vector = self.tags.vector.apply(literal_eval)\n",
    "        self.seen = []\n",
    "        self.liked = []\n",
    "        self.disliked = []\n",
    "        self.all = []\n",
    "        \n",
    "    def calcSimilarity(self):\n",
    "        likedAndSeen = pd.concat((self.tags.loc[self.liked]['vector'], self.tags.loc[self.seen]['vector']))\n",
    "        liked_mean = np.array(likedAndSeen.tolist()).mean(axis=0)\n",
    "        liked_mean = np.concatenate((liked_mean, [1]))\n",
    "        vectors = np.array(self.tags['vector'].tolist())\n",
    "        vectors = np.append(vectors, np.array([self.tags.liked.values.tolist()]).T, axis = 1)\n",
    "        similarities = cosine_similarity([liked_mean], vectors)[0]\n",
    "        similarities = pd.DataFrame(similarities, index = tags.index)\n",
    "        return similarities\n",
    "\n",
    "    def recommend(self):\n",
    "        similarities = self.calcSimilarity()\n",
    "        similarities = similarities.drop(index = self.disliked)\n",
    "        recommended = {user:self.users[user].recommend(similarities, i+1) for i,user in enumerate(self.users)}\n",
    "        return recommended\n",
    "    \n",
    "    def addLiked(self, movieId, userId):\n",
    "        self.tags.loc[movieId, 'liked'] += 1/(self.n_users-1)\n",
    "        self.liked += [movieId]\n",
    "        self.users[userId].liked += [movieId]\n",
    "        self.all += [movieId]\n",
    "        self.users[userId].all += [movieId]\n",
    "        \n",
    "    def addDisliked(self, movieId, userId):\n",
    "        self.tags.loc[movieId, 'liked'] -= 1/(self.n_users-1)\n",
    "        self.disliked += [movieId]\n",
    "        self.users[userId].disliked += [movieId]\n",
    "        self.all += [movieId]\n",
    "        self.users[userId].all += [movieId]\n",
    "        \n",
    "    def addSeen(self, movieId, userId):\n",
    "        self.tags.loc[movieId, 'liked'] += 1/(self.n_users-1)\n",
    "        self.seen += [movieId]\n",
    "        self.users[userId].seen += [movieId]\n",
    "        self.all += [movieId]\n",
    "        self.users[userId].all += [movieId]\n",
    "        \n",
    "    def match(self):\n",
    "        if self.n_users > 1:\n",
    "            common = set(self.users[self.ids[0]].liked) & set(self.users[self.ids[1]].liked)\n",
    "            for i in range(2, self.n_users):\n",
    "                common = common & set(self.users[self.ids[i]].liked)\n",
    "            return common.pop() if common else False\n",
    "        \n",
    "        return self.users[ids[0]].liked[0] if self.users[ids[0]].liked else False"
   ]
  },
  {
   "cell_type": "code",
   "execution_count": 73,
   "id": "79cf35cc",
   "metadata": {},
   "outputs": [],
   "source": [
    "class User:\n",
    "    def __init__(self):\n",
    "        self.liked = []\n",
    "        self.disliked = []\n",
    "        self.seen = []\n",
    "        self.all = []\n",
    "    \n",
    "    def recommend(self, similarities, n = 1):\n",
    "        similarities = similarities.drop(index = self.liked + self.seen, errors = 'ignore')\n",
    "        return similarities.nlargest(n, 0).index.values[-1]"
   ]
  },
  {
   "cell_type": "code",
   "execution_count": 74,
   "id": "7aaeb75e",
   "metadata": {},
   "outputs": [],
   "source": [
    "ids = range(3)\n",
    "rec = Recommender(ids)"
   ]
  },
  {
   "cell_type": "code",
   "execution_count": 75,
   "id": "55ea3d0e",
   "metadata": {},
   "outputs": [
    {
     "data": {
      "text/html": [
       "<div>\n",
       "<style scoped>\n",
       "    .dataframe tbody tr th:only-of-type {\n",
       "        vertical-align: middle;\n",
       "    }\n",
       "\n",
       "    .dataframe tbody tr th {\n",
       "        vertical-align: top;\n",
       "    }\n",
       "\n",
       "    .dataframe thead th {\n",
       "        text-align: right;\n",
       "    }\n",
       "</style>\n",
       "<table border=\"1\" class=\"dataframe\">\n",
       "  <thead>\n",
       "    <tr style=\"text-align: right;\">\n",
       "      <th></th>\n",
       "      <th>title</th>\n",
       "      <th>n_rating</th>\n",
       "      <th>rating_std</th>\n",
       "      <th>rating_mean</th>\n",
       "      <th>vector</th>\n",
       "      <th>years</th>\n",
       "      <th>popularity</th>\n",
       "      <th>year_normed</th>\n",
       "      <th>liked</th>\n",
       "    </tr>\n",
       "  </thead>\n",
       "  <tbody>\n",
       "    <tr>\n",
       "      <th>614</th>\n",
       "      <td>Inglourious Basterds (2009)</td>\n",
       "      <td>23077</td>\n",
       "      <td>0.894771</td>\n",
       "      <td>4.011397</td>\n",
       "      <td>[0.2928795705634613, -1.1195572870269141, -0.0...</td>\n",
       "      <td>2009.0</td>\n",
       "      <td>0.776861</td>\n",
       "      <td>0.775281</td>\n",
       "      <td>0.0</td>\n",
       "    </tr>\n",
       "  </tbody>\n",
       "</table>\n",
       "</div>"
      ],
      "text/plain": [
       "                           title  n_rating  rating_std  rating_mean  \\\n",
       "614  Inglourious Basterds (2009)     23077    0.894771     4.011397   \n",
       "\n",
       "                                                vector   years  popularity  \\\n",
       "614  [0.2928795705634613, -1.1195572870269141, -0.0...  2009.0    0.776861   \n",
       "\n",
       "     year_normed  liked  \n",
       "614     0.775281    0.0  "
      ]
     },
     "execution_count": 75,
     "metadata": {},
     "output_type": "execute_result"
    }
   ],
   "source": [
    "tags[tags['title'].str.contains(\"Basterds\")]"
   ]
  },
  {
   "cell_type": "code",
   "execution_count": 76,
   "id": "aa926021",
   "metadata": {},
   "outputs": [],
   "source": [
    "primer = 864\n",
    "inception = 654\n",
    "fellowship = 202\n",
    "twot = 36\n",
    "rotk = 227\n",
    "donnie = 1586\n",
    "americanbeauty = 295\n",
    "darkknight = 578\n",
    "inglorious = 614\n",
    "pulpfiction = 0\n",
    "hp1 = 200\n",
    "hp2 = 210\n",
    "hp3 = 232"
   ]
  },
  {
   "cell_type": "code",
   "execution_count": 77,
   "id": "3c568069",
   "metadata": {},
   "outputs": [],
   "source": [
    "rec.addLiked(inception, 0)\n",
    "rec.addLiked(primer, 0)\n",
    "rec.addLiked(donnie, 0)\n",
    "rec.addLiked(inglorious, 1)\n",
    "rec.addLiked(darkknight, 1)\n",
    "rec.addLiked(inception, 2)\n",
    "rec.addLiked(hp1, 2)\n",
    "rec.addLiked(hp2, 2)"
   ]
  },
  {
   "cell_type": "code",
   "execution_count": 78,
   "id": "c64cf4dc",
   "metadata": {},
   "outputs": [],
   "source": [
    "rec.addSeen(primer, 2)\n",
    "rec.addDisliked(hp1, 0)"
   ]
  },
  {
   "cell_type": "code",
   "execution_count": 79,
   "id": "f5a47914",
   "metadata": {},
   "outputs": [
    {
     "data": {
      "text/plain": [
       "title             Harry Potter and the Chamber of Secrets (2002)\n",
       "n_rating                                                   22030\n",
       "rating_std                                              0.991392\n",
       "rating_mean                                             3.641784\n",
       "vector         [-0.3366737988606315, -1.0410186403907986, -0....\n",
       "years                                                     2002.0\n",
       "popularity                                              0.768649\n",
       "year_normed                                             0.617978\n",
       "liked                                                        0.5\n",
       "Name: 210, dtype: object"
      ]
     },
     "execution_count": 79,
     "metadata": {},
     "output_type": "execute_result"
    }
   ],
   "source": [
    "rec.tags.loc[hp2]"
   ]
  },
  {
   "cell_type": "code",
   "execution_count": 80,
   "id": "75c95d4f",
   "metadata": {},
   "outputs": [
    {
     "data": {
      "text/plain": [
       "'rec.users[0].liked = [primer, inception, donnie]\\nrec.users[1].liked = [inglorious]\\nrec.users[2].liked = [inception]\\n\\nrec.liked = [primer, inception, donnie, fellowship, twot, inglorious, americanbeauty, pulpfiction]'"
      ]
     },
     "execution_count": 80,
     "metadata": {},
     "output_type": "execute_result"
    }
   ],
   "source": [
    "'''rec.users[0].liked = [primer, inception, donnie]\n",
    "rec.users[1].liked = [inglorious]\n",
    "rec.users[2].liked = [inception]\n",
    "\n",
    "rec.liked = [primer, inception, donnie, fellowship, twot, inglorious, americanbeauty, pulpfiction]'''"
   ]
  },
  {
   "cell_type": "code",
   "execution_count": 81,
   "id": "baa04c51",
   "metadata": {},
   "outputs": [
    {
     "data": {
      "text/plain": [
       "False"
      ]
     },
     "execution_count": 81,
     "metadata": {},
     "output_type": "execute_result"
    }
   ],
   "source": [
    "rec.match()  "
   ]
  },
  {
   "cell_type": "code",
   "execution_count": 82,
   "id": "a7bf7622",
   "metadata": {},
   "outputs": [],
   "source": [
    "recommendation = rec.recommend()"
   ]
  },
  {
   "cell_type": "code",
   "execution_count": 83,
   "id": "063c9455",
   "metadata": {},
   "outputs": [
    {
     "data": {
      "text/plain": [
       "{0: 210, 1: 1586, 2: 405}"
      ]
     },
     "execution_count": 83,
     "metadata": {},
     "output_type": "execute_result"
    }
   ],
   "source": [
    "recommendation"
   ]
  },
  {
   "cell_type": "code",
   "execution_count": 84,
   "id": "7551235f",
   "metadata": {},
   "outputs": [
    {
     "data": {
      "text/html": [
       "<div>\n",
       "<style scoped>\n",
       "    .dataframe tbody tr th:only-of-type {\n",
       "        vertical-align: middle;\n",
       "    }\n",
       "\n",
       "    .dataframe tbody tr th {\n",
       "        vertical-align: top;\n",
       "    }\n",
       "\n",
       "    .dataframe thead th {\n",
       "        text-align: right;\n",
       "    }\n",
       "</style>\n",
       "<table border=\"1\" class=\"dataframe\">\n",
       "  <thead>\n",
       "    <tr style=\"text-align: right;\">\n",
       "      <th></th>\n",
       "      <th>title</th>\n",
       "      <th>n_rating</th>\n",
       "      <th>rating_std</th>\n",
       "      <th>rating_mean</th>\n",
       "      <th>vector</th>\n",
       "      <th>years</th>\n",
       "      <th>popularity</th>\n",
       "      <th>year_normed</th>\n",
       "      <th>liked</th>\n",
       "    </tr>\n",
       "  </thead>\n",
       "  <tbody>\n",
       "    <tr>\n",
       "      <th>210</th>\n",
       "      <td>Harry Potter and the Chamber of Secrets (2002)</td>\n",
       "      <td>22030</td>\n",
       "      <td>0.991392</td>\n",
       "      <td>3.641784</td>\n",
       "      <td>[-0.3366737988606315, -1.0410186403907986, -0....</td>\n",
       "      <td>2002.0</td>\n",
       "      <td>0.768649</td>\n",
       "      <td>0.617978</td>\n",
       "      <td>0.0</td>\n",
       "    </tr>\n",
       "    <tr>\n",
       "      <th>1586</th>\n",
       "      <td>Donnie Darko (2001)</td>\n",
       "      <td>27181</td>\n",
       "      <td>0.937298</td>\n",
       "      <td>3.954067</td>\n",
       "      <td>[-0.47491378337318074, -0.9341390874969006, -0...</td>\n",
       "      <td>2001.0</td>\n",
       "      <td>0.805810</td>\n",
       "      <td>0.595506</td>\n",
       "      <td>0.0</td>\n",
       "    </tr>\n",
       "    <tr>\n",
       "      <th>405</th>\n",
       "      <td>Equilibrium (2002)</td>\n",
       "      <td>10493</td>\n",
       "      <td>0.905120</td>\n",
       "      <td>3.730916</td>\n",
       "      <td>[-0.23285532795506497, -1.0472529211904265, -0...</td>\n",
       "      <td>2002.0</td>\n",
       "      <td>0.637471</td>\n",
       "      <td>0.617978</td>\n",
       "      <td>0.0</td>\n",
       "    </tr>\n",
       "  </tbody>\n",
       "</table>\n",
       "</div>"
      ],
      "text/plain": [
       "                                               title  n_rating  rating_std  \\\n",
       "210   Harry Potter and the Chamber of Secrets (2002)     22030    0.991392   \n",
       "1586                             Donnie Darko (2001)     27181    0.937298   \n",
       "405                               Equilibrium (2002)     10493    0.905120   \n",
       "\n",
       "      rating_mean                                             vector   years  \\\n",
       "210      3.641784  [-0.3366737988606315, -1.0410186403907986, -0....  2002.0   \n",
       "1586     3.954067  [-0.47491378337318074, -0.9341390874969006, -0...  2001.0   \n",
       "405      3.730916  [-0.23285532795506497, -1.0472529211904265, -0...  2002.0   \n",
       "\n",
       "      popularity  year_normed  liked  \n",
       "210     0.768649     0.617978    0.0  \n",
       "1586    0.805810     0.595506    0.0  \n",
       "405     0.637471     0.617978    0.0  "
      ]
     },
     "execution_count": 84,
     "metadata": {},
     "output_type": "execute_result"
    }
   ],
   "source": [
    "tags.loc[list(recommendation.values())]"
   ]
  },
  {
   "cell_type": "code",
   "execution_count": null,
   "id": "915f730e",
   "metadata": {},
   "outputs": [],
   "source": []
  }
 ],
 "metadata": {
  "kernelspec": {
   "display_name": "Python 3 (ipykernel)",
   "language": "python",
   "name": "python3"
  },
  "language_info": {
   "codemirror_mode": {
    "name": "ipython",
    "version": 3
   },
   "file_extension": ".py",
   "mimetype": "text/x-python",
   "name": "python",
   "nbconvert_exporter": "python",
   "pygments_lexer": "ipython3",
   "version": "3.10.2"
  }
 },
 "nbformat": 4,
 "nbformat_minor": 5
}
